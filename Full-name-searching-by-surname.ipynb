{
 "cells": [
  {
   "cell_type": "code",
   "execution_count": 1,
   "id": "2c159e56",
   "metadata": {},
   "outputs": [
    {
     "name": "stdout",
     "output_type": "stream",
     "text": [
      "Enter Full Name: Aditya Kumar\n",
      "Enter Full Name: Nitu Sinha\n",
      "Enter Full Name: Niva Sinha\n",
      "Enter Full Name: Nisha Sinha\n",
      "Search By Surname: Sinha\n",
      "Nitu\n",
      "Niva\n",
      "Nisha\n"
     ]
    }
   ],
   "source": [
    "dic={}\n",
    "for i in range(1,5):\n",
    "    full_name,surname=input(\"Enter Full Name: \").split()\n",
    "    if surname not in dic:\n",
    "        full_name_temp=[]\n",
    "        full_name_temp.append(full_name)\n",
    "        dic[surname]=full_name_temp\n",
    "    else:\n",
    "        dic[surname].append(full_name)\n",
    "search_element=input(\"Search By Surname: \")\n",
    "\n",
    "for Full_Name in dic[search_element]:\n",
    "    print(Full_Name)\n",
    "    "
   ]
  },
  {
   "cell_type": "code",
   "execution_count": null,
   "id": "d143c092",
   "metadata": {},
   "outputs": [],
   "source": []
  }
 ],
 "metadata": {
  "kernelspec": {
   "display_name": "Python 3",
   "language": "python",
   "name": "python3"
  },
  "language_info": {
   "codemirror_mode": {
    "name": "ipython",
    "version": 3
   },
   "file_extension": ".py",
   "mimetype": "text/x-python",
   "name": "python",
   "nbconvert_exporter": "python",
   "pygments_lexer": "ipython3",
   "version": "3.8.8"
  }
 },
 "nbformat": 4,
 "nbformat_minor": 5
}
